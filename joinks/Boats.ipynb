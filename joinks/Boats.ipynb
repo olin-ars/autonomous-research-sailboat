{
 "cells": [
  {
   "cell_type": "code",
   "execution_count": 2,
   "metadata": {},
   "outputs": [],
   "source": [
    "import numpy as np\n",
    "import matplotlib.pyplot as plt\n",
    "import pandas as pd\n",
    "%matplotlib inline"
   ]
  },
  {
   "cell_type": "code",
   "execution_count": 2,
   "metadata": {},
   "outputs": [],
   "source": [
    "class BasicBoat:\n",
    "    def __init__(self, w = [1,1], start = [0, 0], target = [10, 10]):\n",
    "        self.start = start[:]\n",
    "        self.target = target[:]\n",
    "        self.X = np.array([[start[0]],\n",
    "                           [start[1]],\n",
    "                           [w[0]],\n",
    "                           [w[1]]])\n",
    "        self.theta = np.radians(0)\n",
    "        self.A = np.array([[1, 0, 0, 0],\n",
    "                           [0, 1, 0, 0],\n",
    "                           [0, 0, 1, 0],\n",
    "                           [0, 0, 0, 1]])\n",
    "        self.B = np.array([[w[1]-w[0]],\n",
    "                           [-w[1]-w[0]],\n",
    "                           [0],\n",
    "                           [0]])\n",
    "        self.res = self.X[:]\n",
    "\n",
    "    def run(self, action_list = list(range(100)), t_step = 1):\n",
    "        A = self.A + np.array([[0, 0, t_step, 0],\n",
    "                               [0, 0, 0, t_step],\n",
    "                               [0, 0, 0, 0],\n",
    "                               [0, 0, 0, 0]])\n",
    "        for theta in action_list:\n",
    "            self.X = A.dot(self.X) + self.B*theta\n",
    "            self.res = np.column_stack((self.res, self.X))\n",
    "\n",
    "    def plot_res(self):\n",
    "        plt.plot(self.res[0,:], self.res[1,:], '.',\n",
    "                 self.start[0], self.start[1], '*',\n",
    "                 self.target[0], self.target[1], '*')\n",
    "        plt.title('Position of boat')\n",
    "        plt.xlabel('X position')\n",
    "        plt.ylabel('Y position')\n",
    "        plt.legend(['Boat', 'Start', 'Target'])"
   ]
  },
  {
   "cell_type": "code",
   "execution_count": 6,
   "metadata": {},
   "outputs": [
    {
     "data": {
      "image/png": "[encoded data removed]",
      "text/plain": [
       "<Figure size 432x288 with 1 Axes>"
      ]
     },
     "metadata": {
      "needs_background": "light"
     },
     "output_type": "display_data"
    }
   ],
   "source": [
    "b1 = BasicBoat()\n",
    "b1.run(action_list = np.ones(100)*np.radians(-1), t_step = 0.1)\n",
    "b1.plot_res()"
   ]
  },
  {
   "cell_type": "code",
   "execution_count": 187,
   "metadata": {},
   "outputs": [],
   "source": [
    "class LQRBoat:\n",
    "    def __init__(self, w = [2,1], dt = 0.1, start = [0, 0], target = [10, 10]):\n",
    "        self.start = start[:]\n",
    "        self.target = target[:]\n",
    "        w = w/np.linalg.norm(w)\n",
    "\n",
    "        # System description\n",
    "        self.X = np.array([[start[0] - target[0]],\n",
    "                           [start[1] - target[1]]])\n",
    "        self.Sigma = np.identity(4)*0.999\n",
    "        self.A = np.array([[1, 0],\n",
    "                           [0, 1]])\n",
    "        self.B = np.array([[w[0], -w[1]],\n",
    "                           [w[1], w[0]]]) * dt\n",
    "\n",
    "        # LQR inits\n",
    "        self.Q = np.array([[-100, 0],\n",
    "                           [ 0,-10]]) # x, y\n",
    "        self.R = np.array([[-1, 0],\n",
    "                           [ 0,-50]]) # Alpha, Alpha*Theta\n",
    "        self.P = {0: np.zeros((2,2))}\n",
    "        self.M = {0: np.zeros((2,1))}\n",
    "        self.res = self.X[:]\n",
    "\n",
    "    def run(self, n_steps = 10, p_steps = 10):\n",
    "        P, M = self._optimal_pi(n=p_steps)\n",
    "        for i in list(range(n_steps+5)):\n",
    "            u = -M@self.X\n",
    "            self.X = self.A@self.X + self.B@u\n",
    "            self.res = np.column_stack((self.res, self.X))\n",
    "\n",
    "    def _optimal_pi(self, n):\n",
    "        if n not in self.P:\n",
    "            P_back, M_back = self._optimal_pi(n-1)\n",
    "            p1 = self.A.T@P_back@self.A\n",
    "            p2 = self.A.T@P_back@self.B\n",
    "            self.P[n] = p1-p2@M_back+self.Q\n",
    "            self.M[n] = np.linalg.inv(self.R + self.B.T@self.P[n]@self.B)@(self.B.T@self.P[n]@self.A)\n",
    "        return self.P[n], self.M[n]\n",
    "\n",
    "    def plot_res(self):\n",
    "        fig = plt.figure(figsize=(11,11))\n",
    "        plt.plot(self.res[0,:], self.res[1,:], '.',\n",
    "                 self.start[0]-self.target[0], self.start[1]-self.target[1], '*',\n",
    "                 self.start[0], self.start[1], 'o')\n",
    "        plt.title('Position of boat')\n",
    "        plt.xlabel('X position')\n",
    "        plt.ylabel('Y position')\n",
    "        plt.legend(['Boat', 'Start', 'Target'])"
   ]
  },
  {
   "cell_type": "code",
   "execution_count": 188,
   "metadata": {},
   "outputs": [
    {
     "data": {
      "image/png": "[encoded data removed]",
      "text/plain": [
       "<Figure size 792x792 with 1 Axes>"
      ]
     },
     "metadata": {
      "needs_background": "light"
     },
     "output_type": "display_data"
    }
   ],
   "source": [
    "lqr = LQRBoat(w=[0.5, np.sqrt(1-0.5**2)])\n",
    "lqr.run(100, 100)\n",
    "lqr.plot_res()"
   ]
  },
  {
   "cell_type": "code",
   "execution_count": 183,
   "metadata": {},
   "outputs": [
    {
     "data": {
      "text/plain": [
       "array([[ 1.35078106,  2.33962142],\n",
       "       [-1.14120038,  0.65887234]])"
      ]
     },
     "execution_count": 183,
     "metadata": {},
     "output_type": "execute_result"
    }
   ],
   "source": [
    "lqr.M[100]"
   ]
  },
  {
   "cell_type": "code",
   "execution_count": 184,
   "metadata": {},
   "outputs": [
    {
     "data": {
      "text/plain": [
       "(array([0.86822553, 0.72984379]), array([[ 0.8660254,  0.5      ],\n",
       "        [-0.5      ,  0.8660254]]))"
      ]
     },
     "execution_count": 184,
     "metadata": {},
     "output_type": "execute_result"
    }
   ],
   "source": [
    "np.linalg.eig(lqr.A-lqr.B@lqr.M[100])"
   ]
  },
  {
   "cell_type": "code",
   "execution_count": 122,
   "metadata": {},
   "outputs": [],
   "source": [
    "class GPSBoat:\n",
    "    def __init__(self, start = [0,0], w_vel = [1,1]):\n",
    "        self.X = np.array(start).reshape((2,1))\n",
    "        self.W = np.array(w_vel).reshape((2,1))\n",
    "        self.W = self.W/np.linalg.norm(self.W)\n",
    "        \n",
    "        self.K = 10\n",
    "        self.sigma_x = 0.001\n",
    "        self.sigma_y = 0.1\n",
    "    \n",
    "    def step(self, theta, ts = 0.5):\n",
    "        tlist = np.linspace(0, ts, 1001)\n",
    "        fpos = odeint(self._diffs, np.reshape(self.X, (2,)), tlist, args=(theta, self.K))\n",
    "        self.X = fpos[-1,:].reshape((2,1))\n",
    "        return self.X+self.sigma_y*np.random.randn(2,1)\n",
    "\n",
    "    def _diffs(self, y, t, theta, k):\n",
    "        Rw = self._R(theta)@self.W\n",
    "        return np.reshape(k*self.W.T@Rw*Rw+self.sigma_x*np.random.randn(2,1), (2,))\n",
    "\n",
    "    def _R(self, theta):\n",
    "        return np.array([[np.cos(theta), -np.sin(theta)],\n",
    "                         [np.sin(theta),  np.cos(theta)]])"
   ]
  },
  {
   "cell_type": "code",
   "execution_count": 126,
   "metadata": {},
   "outputs": [
    {
     "data": {
      "text/plain": [
       "array([[7.1406982 ],\n",
       "       [7.02084444]])"
      ]
     },
     "execution_count": 126,
     "metadata": {},
     "output_type": "execute_result"
    }
   ],
   "source": [
    "gg = GPSBoat()\n",
    "gg.step(theta=np.radians(0), ts = 1)"
   ]
  },
  {
   "cell_type": "code",
   "execution_count": null,
   "metadata": {},
   "outputs": [],
   "source": []
  }
 ],
 "metadata": {
  "kernelspec": {
   "display_name": "Python 3",
   "language": "python",
   "name": "python3"
  },
  "language_info": {
   "codemirror_mode": {
    "name": "ipython",
    "version": 3
   },
   "file_extension": ".py",
   "mimetype": "text/x-python",
   "name": "python",
   "nbconvert_exporter": "python",
   "pygments_lexer": "ipython3",
   "version": "3.6.8"
  }
 },
 "nbformat": 4,
 "nbformat_minor": 2
}
