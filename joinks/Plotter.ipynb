{
 "cells": [
  {
   "cell_type": "code",
   "execution_count": 1,
   "metadata": {},
   "outputs": [],
   "source": [
    "import numpy as np\n",
    "import matplotlib.pyplot as plt\n",
    "from mdp import MDP\n",
    "%matplotlib inline"
   ]
  },
  {
   "cell_type": "code",
   "execution_count": 2,
   "metadata": {},
   "outputs": [],
   "source": [
    "mm = MDP()"
   ]
  },
  {
   "cell_type": "code",
   "execution_count": 12,
   "metadata": {},
   "outputs": [],
   "source": [
    "u, p = mm.value_iteration(gamma = 0.97, n = 2000)"
   ]
  },
  {
   "cell_type": "code",
   "execution_count": 13,
   "metadata": {
    "scrolled": false
   },
   "outputs": [
    {
     "data": {
      "text/plain": [
       "array([[ 0.55,  1.11,  1.4 ,  2.  ,  2.33,  3.22,  3.53,  3.97,  4.57,\n",
       "         4.51],\n",
       "       [ 1.07,  1.43,  2.07,  2.36,  3.34,  3.75,  4.6 ,  4.53,  5.53,\n",
       "         5.4 ],\n",
       "       [ 1.09,  1.87,  2.2 ,  3.26,  3.75,  4.91,  5.16,  3.  ,  6.25,\n",
       "         6.27],\n",
       "       [ 1.18,  1.54,  2.61,  3.04,  4.81,  5.46,  6.44,  6.7 ,  7.36,\n",
       "         6.99],\n",
       "       [ 0.9 ,  2.05,  2.14, -0.78,  4.88,  6.45,  7.06,  7.72,  8.05,\n",
       "         7.64],\n",
       "       [ 1.83,  2.4 ,  3.81,  4.5 ,  6.3 ,  7.03,  7.78,  8.29,  8.71,\n",
       "         8.22],\n",
       "       [ 1.54,  2.89,  3.51,  4.76,  6.64,  7.7 ,  8.28,  8.85,  9.33,\n",
       "         8.78],\n",
       "       [ 1.39,  1.86,  2.4 , -5.02,  6.13,  7.9 ,  8.7 ,  9.34, 10.  ,\n",
       "         9.29],\n",
       "       [ 1.66,  2.94,  3.71,  4.83,  6.71,  7.69,  8.29,  8.84,  9.33,\n",
       "         8.77],\n",
       "       [ 1.89,  2.99,  4.26,  5.3 ,  6.34,  7.07,  7.72,  8.26,  8.66,\n",
       "         8.17]])"
      ]
     },
     "execution_count": 13,
     "metadata": {},
     "output_type": "execute_result"
    }
   ],
   "source": [
    "np.around(u.reshape((10,10)), decimals=2)"
   ]
  },
  {
   "cell_type": "code",
   "execution_count": 14,
   "metadata": {},
   "outputs": [
    {
     "data": {
      "text/plain": [
       "array([[3, 1, 1, 1, 1, 1, 1, 1, 1, 1],\n",
       "       [3, 3, 3, 3, 1, 1, 1, 3, 1, 1],\n",
       "       [3, 3, 3, 3, 3, 1, 1, 0, 1, 1],\n",
       "       [3, 3, 3, 3, 3, 3, 1, 1, 1, 1],\n",
       "       [3, 1, 1, 3, 3, 3, 1, 1, 1, 1],\n",
       "       [3, 3, 3, 3, 3, 3, 3, 1, 1, 1],\n",
       "       [3, 3, 3, 3, 3, 3, 3, 1, 1, 2],\n",
       "       [3, 1, 1, 3, 3, 3, 3, 3, 0, 2],\n",
       "       [3, 3, 3, 3, 3, 3, 3, 0, 0, 2],\n",
       "       [3, 3, 3, 3, 3, 3, 0, 0, 0, 0]])"
      ]
     },
     "execution_count": 14,
     "metadata": {},
     "output_type": "execute_result"
    }
   ],
   "source": [
    "np.array(list(map(lambda x: x[0], p))).reshape((10,10))"
   ]
  },
  {
   "cell_type": "code",
   "execution_count": 7,
   "metadata": {},
   "outputs": [
    {
     "data": {
      "image/png": "[encoded data removed]",
      "text/plain": [
       "<Figure size 432x288 with 1 Axes>"
      ]
     },
     "metadata": {
      "needs_background": "light"
     },
     "output_type": "display_data"
    }
   ],
   "source": [
    "mm.plot_results(steps = 100, start=(9,0))"
   ]
  },
  {
   "cell_type": "code",
   "execution_count": null,
   "metadata": {},
   "outputs": [],
   "source": []
  }
 ],
 "metadata": {
  "kernelspec": {
   "display_name": "Python 3",
   "language": "python",
   "name": "python3"
  },
  "language_info": {
   "codemirror_mode": {
    "name": "ipython",
    "version": 3
   },
   "file_extension": ".py",
   "mimetype": "text/x-python",
   "name": "python",
   "nbconvert_exporter": "python",
   "pygments_lexer": "ipython3",
   "version": "3.6.8"
  }
 },
 "nbformat": 4,
 "nbformat_minor": 2
}
